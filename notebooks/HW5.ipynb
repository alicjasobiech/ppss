{
  "cells": [
    {
      "cell_type": "markdown",
      "metadata": {
        "id": "9s2nbj8zOdxh"
      },
      "source": [
        "# Homework (deadline 30.06.2025 23:59:59)\n",
        "Write solutions for the homework exercises in this notebook. Once the work is done download the notebook file (`File > Download .ipynb`) rename it properly so it follows a template `HW5_<SURNAME>_<NAME>.ipynb` and upload it to the [Google Classroom](https://classroom.google.com/c/MjE0MTUxNzE3NDNa/a/MjE0MTUxNzE3NzNa/details).\n",
        "\n",
        "Remember that you can contact me via email if you have any problems. Moreover, you can also visit me in the ISS on the fourth floor (room 415). Usually, I am there from 11ish but please let me know in advance if you are coming because I might be busy."
      ]
    },
    {
      "cell_type": "markdown",
      "metadata": {
        "id": "TZLyWiNXOdxl"
      },
      "source": [
        "## Task 1. (20 points)\n",
        "\n",
        "This is a real-world case of my failed experiment. A few years ago I prepared an online experiment that was meant to assess participants' working memory. The procedure followed the dual-task paradigm. This means that it required participants to perform two tasks simultaneously. On the one hand, they were displayed with strings of letters and asked to memorize them and afterward recall them in the correct order. On the other hand, before every single letter was displayed they had to solve an easy mathematical equation. Therefore, the task had the following scheme (see Figure 5 from this [paper](https://classroom.google.com/c/NjU2NDU0NTExNTIx/m/MTk0MDUwMTU3MDha/details) for the detailed description).\n",
        "\n",
        "1. Solve an equation\n",
        "2. Memorize a letter\n",
        "3. Solve an equation\n",
        "4. Memorize a letter\n",
        "5. Recall letters in the correct orders\n",
        "\n",
        "If a participant succeeded in recalling letters in the correct order they moved to the next level in which there were three letters to memorize and later recall. If they failed twice in the row in recalling letters in the correct order the task was finished. To make sure that participants understand the procedure before running the main task they had a chance to [practice](https://www.youtube.com/watch?v=eGDBR2L5kzI) each part. Therefore, first, they practiced recalling letters without solving equations -- simple recall. Second, solving the equations. Third, the whole procedure. Finally, after the [practice](https://www.youtube.com/watch?v=_UMIcM66S1M) came to the main task -- complex recall. Unfortunately, it turned out that I made a mistake in displaying letters. My program drew a letter from the list looking like the one below.\n",
        "\n",
        "```python\n",
        "letters_to_display = ['X', 'V', 'Q', 'F', 'H', 'G', 'B', 'L', 'J', 'M', 'P', 'D', 'K', 'C', 'T', 'S', 'W', 'R', 'N', 'Z\\n']\n",
        "```\n",
        "It is clear from the first glance that the last letter `Z` has something glued to it. `\\n` is a symbol of a new line. It was invisible for participants when displayed but when someone recalled correctly `Z` my program tested it negative, i.e.\n",
        "\n",
        "```python\n",
        "pariticpant_input = ['XZQ']\n",
        "displayed_letters = ['XZ\\nQ']\n",
        "```\n",
        "This is quite a big issue, right? Yes and no. Actually, it is only a big issue if a participant recalled the letters correctly but the procedure evaluated them as wrong. For example, this would not be an issue.\n",
        "\n",
        "```python\n",
        "pariticpant_input = ['XZR']\n",
        "displayed_letters = ['XZ\\nQ']\n",
        "\n",
        "```\n",
        "That is because the participant anyway recalled the letters wrong. Moreover, it is the issue only if my mistake lead to the end of the procedure. For example, this would be an issue.\n",
        "\n",
        "```python\n",
        "## Round 1\n",
        "pariticpant_input = ['XV']\n",
        "displayed_letters = ['RV']\n",
        "\n",
        "## Round 2\n",
        "pariticpant_input = ['XZ']\n",
        "displayed_letters = ['XZ\\n']\n",
        "```\n",
        "Because it would lead to the end of the procedure. On the other hand, this would not be an issue.\n",
        "```python\n",
        "## Round 1\n",
        "pariticpant_input = ['XV']\n",
        "displayed_letters = ['XV']\n",
        "\n",
        "## Round 2\n",
        "pariticpant_input = ['XZR']\n",
        "displayed_letters = ['XZ\\nR']\n",
        "\n",
        "## Round 3\n",
        "pariticpant_input = ['XBR']\n",
        "displayed_letters = ['XBR']\n",
        "\n",
        "## Round 4\n",
        "pariticpant_input = ['XBXH']\n",
        "displayed_letters = ['XBRH']\n",
        "\n",
        "## Round 5\n",
        "pariticpant_input = ['LMNP']\n",
        "displayed_letters = ['LMMP']\n",
        "```\n",
        "\n",
        "In both cases, the procedure would have ended but in the first case, it was due to the procedure failure. In the second case, it was due to the participant's responses.\n",
        "\n",
        "Now, in the file `jsons.zip` you have 100 `JSON` files (you can download it from [here](https://classroom.google.com/c/MjE0MTUxNzE3NDNa/m/MjE0MTUxNzE3Nzla/details) or email me if you have troubles accessing the file). Each has the following structure.\n",
        "\n",
        "```python\n",
        "{\n",
        "\t\"simple_recall\" : [\n",
        "\t\t\"zn\",\"bx\",\"zzv\",\"jqs\",\"tjd\",\"dvrh\",\"wpwc\",\"swdtp\",\"rkzrq\",\"gxjpz\",\"dcrmg\",\"wdcvhn\",\"rfnrnd\",\"fpflpp\",\"fpfgfjx\",\"tfwtfrx\",\"fshqjzr\"\n",
        "\t\t],\n",
        "\t\"simple_recall_corrkeys\" : [\n",
        "\t\t\"ZN\",\"BX\",\"Z\\nZ\\nV\",\"JQS\",\"TJD\",\"DVRH\",\"WPWC\",\"SWDTP\",\"RKZ\\nRQ\",\"GXJPZ\\n\",\"DCRMG\",\"VDCWHN\",\"RFNRND\",\"FPFLPP\",\"JXFGPLF\",\"TRWTFRX\",\"FSHQJZ\\nR\"\n",
        "\t\t],\n",
        "\t\"complex_recall\" : [\n",
        "\t\t\"zj\",\"zwjs\",\"lmbq\",\"jrhpt\",\"pmdqhl\",\"fjgtsxs\",\"ghdzqlsh\",\"djsdtrls\",\"hmhcwwsx\",\"vqhdmkvkg\",null,null,null,null,null,null,null\n",
        "\t\t],\n",
        "\t\"complex_recall_corrkeys\" : [\n",
        "\t\t\"ZJ\",\"WJS\",\"LMBQ\",\"JRHPT\",\"PMDQHL\",\"FJGTSXS\",\"GHDLQZ\\nSH\",\"DJSDTRLS\",\"HMHCWWCSX\",\"VQHDMKVHG\",null,null,null,null,null,null,null\n",
        "\t\t]\n",
        "}\n",
        "\n",
        "```\n",
        "Each of the files' names has the following structure `<id>_task_<date>_<time>.json`. Your task is to create a single `JSON` file that will consist of only two key-value pairs. The first field should store information on the ids (not the names of the files but ids) of users who ended the simple recall procedure because of my mistake. The simple recall ended if the participant made three mistakes in a row. The second field should store information on the ids of users who ended the complex recall procedure because of my mistake. The complex recall procedure ended if a participant made two mistakes in a row. The output `JSON` file should have the following structure.\n",
        "```python\n",
        "{\n",
        "\t'simple_recall' : [ 'alsdhfashfslak', 'poqwieriuwqper' ],\n",
        "\t'complex_recall' : [ 'poiqwerpiu', 'zcxvhlh' ]\n",
        "}\n",
        "```\n",
        "\n",
        "**REMEMBER**: If you are going to create a custom function (it is not necessary) you must write a proper `docstring` for it. Otherwise, you will lose 1 point.\n",
        "**IMPORTANT**: To score 20 points you need to send me the notebook and the output `JSON` file.\n",
        "**HINT**: There should be `51` ids in the `simple_recall` list and `48` in `complex_recall`.\n"
      ]
    },
    {
      "cell_type": "code",
      "execution_count": null,
      "metadata": {
        "id": "Apb1FP3qOdxo"
      },
      "outputs": [],
      "source": [
        "## YOUR SOLUTION"
      ]
    },
    {
      "cell_type": "markdown",
      "metadata": {
        "id": "QEQx8AhWOdxq"
      },
      "source": [
        "## Task 2. (5 points)\n",
        "\n",
        "Write a function that decrypts a message written in the morse alphabet. Each message will be a single sentence. It will consist of words with 3 spaces between them and 1 space between each letter of each word. If the decrypted text starts with a letter then you have to print this letter in uppercase. The function should work more or less like the following.\n",
        "\n",
        "```python\n",
        "morse_decoder(\"... --- -- .   - . -..- -\") == \"Some text\"\n",
        "morse_decoder(\"..--- ----- .---- ---..\") == \"2018\"\n",
        "morse_decoder(\".. -   .-- .- ...   .-   --. --- --- -..   -.. .- -.--\") == \"It was a good day\"\n",
        "```\n",
        "**REMEMBER**: Write a proper `docstring`."
      ]
    },
    {
      "cell_type": "code",
      "execution_count": 1,
      "metadata": {
        "id": "txxMwbypOdxs"
      },
      "outputs": [],
      "source": [
        "MORSE = {\n",
        "    \".-\": \"a\",\n",
        "    \"-...\": \"b\",\n",
        "    \"-.-.\": \"c\",\n",
        "    \"-..\": \"d\",\n",
        "    \".\": \"e\",\n",
        "    \"..-.\": \"f\",\n",
        "    \"--.\": \"g\",\n",
        "    \"....\": \"h\",\n",
        "    \"..\": \"i\",\n",
        "    \".---\": \"j\",\n",
        "    \"-.-\": \"k\",\n",
        "    \".-..\": \"l\",\n",
        "    \"--\": \"m\",\n",
        "    \"-.\": \"n\",\n",
        "    \"---\": \"o\",\n",
        "    \".--.\": \"p\",\n",
        "    \"--.-\": \"q\",\n",
        "    \".-.\": \"r\",\n",
        "    \"...\": \"s\",\n",
        "    \"-\": \"t\",\n",
        "    \"..-\": \"u\",\n",
        "    \"...-\": \"v\",\n",
        "    \".--\": \"w\",\n",
        "    \"-..-\": \"x\",\n",
        "    \"-.--\": \"y\",\n",
        "    \"--..\": \"z\",\n",
        "    \"-----\": \"0\",\n",
        "    \".----\": \"1\",\n",
        "    \"..---\": \"2\",\n",
        "    \"...--\": \"3\",\n",
        "    \"....-\": \"4\",\n",
        "    \".....\": \"5\",\n",
        "    \"-....\": \"6\",\n",
        "    \"--...\": \"7\",\n",
        "    \"---..\": \"8\",\n",
        "    \"----.\": \"9\",\n",
        "}"
      ]
    },
    {
      "cell_type": "code",
      "execution_count": null,
      "metadata": {
        "id": "i3dHEIQyOdxt"
      },
      "outputs": [],
      "source": [
        "MORSE = {\n",
        "    \".-\": \"a\", \"-...\": \"b\", \"-.-.\": \"c\", \"-..\": \"d\", \".\": \"e\",\n",
        "    \"..-.\": \"f\", \"--.\": \"g\", \"....\": \"h\", \"..\": \"i\", \".---\": \"j\",\n",
        "    \"-.-\": \"k\", \".-..\": \"l\", \"--\": \"m\", \"-.\": \"n\", \"---\": \"o\",\n",
        "    \".--.\": \"p\", \"--.-\": \"q\", \".-.\": \"r\", \"...\": \"s\", \"-\": \"t\",\n",
        "    \"..-\": \"u\", \"...-\": \"v\", \".--\": \"w\", \"-..-\": \"x\", \"-.--\": \"y\",\n",
        "    \"--..\": \"z\", \"-----\": \"0\", \".----\": \"1\", \"..---\": \"2\",\n",
        "    \"...--\": \"3\", \"....-\": \"4\", \".....\": \"5\", \"-....\": \"6\",\n",
        "    \"--...\": \"7\", \"---..\": \"8\", \"----.\": \"9\",\n",
        "}\n",
        "\n",
        "def morse_decoder(code):\n",
        "    words = code.strip().split(\"   \")\n",
        "    decoded_words = []\n",
        "    for word in words:\n",
        "        letters = word.split()\n",
        "        decoded_word = ''.join(MORSE[letter] for letter in letters)\n",
        "        decoded_words.append(decoded_word)\n",
        "    result = ' '.join(decoded_words)\n",
        "    if result and result[0].isalpha():\n",
        "        result = result[0].upper() + result[1:]\n",
        "    return result\n",
        "\n",
        "print(morse_decoder(\"... --- -- .   - . -..- -\"))\n",
        "print(morse_decoder(\"..--- ----- .---- ---..\"))\n",
        "print(morse_decoder(\".. -   .-- .- ...   .-   --. --- --- -..   -.. .- -.--\"))"
      ]
    },
    {
      "cell_type": "markdown",
      "metadata": {
        "id": "JdyckofuOdxu"
      },
      "source": [
        "## Task 3. (5 points)\n",
        "\n",
        "Write a function that counts the frequency of given words in a given text. At the input of your function will be given 2 arguments: the text and the list of words the popularity of which you need to determine.\n",
        "When solving this task pay attention to the following points:\n",
        "\n",
        "1. The words should be sought in all registers. This means that if you need to find a word \"one\" then words like \"one\", \"One\", \"oNe\", \"ONE\" etc. will do.\n",
        "2. The search words are always indicated in the lowercase.\n",
        "3. If the word wasn’t found even once, it has to be returned to the dictionary with a 0 (zero) value.\n",
        "\n",
        "The function should work more or less like the following.\n",
        "\n",
        "```python\n",
        "popular_words('''\n",
        "When I was One\n",
        "I had just begun\n",
        "When I was Two\n",
        "I was nearly new\n",
        "''', ['i', 'was', 'three', 'near']) == {\n",
        "    'i': 4,\n",
        "    'was': 3,\n",
        "    'three': 0,\n",
        "    'near': 0\n",
        "}\n",
        "```\n",
        "**REMEMBER**: Write a proper `docstring`."
      ]
    },
    {
      "cell_type": "code",
      "execution_count": null,
      "metadata": {
        "id": "6UF59RMPOdxv"
      },
      "outputs": [],
      "source": [
        "## YOUR SOLUTION"
      ]
    }
  ],
  "metadata": {
    "kernelspec": {
      "display_name": "ppss",
      "language": "python",
      "name": "python3"
    },
    "language_info": {
      "codemirror_mode": {
        "name": "ipython",
        "version": 3
      },
      "file_extension": ".py",
      "mimetype": "text/x-python",
      "name": "python",
      "nbconvert_exporter": "python",
      "pygments_lexer": "ipython3",
      "version": "3.9.16"
    },
    "colab": {
      "provenance": []
    }
  },
  "nbformat": 4,
  "nbformat_minor": 0
}